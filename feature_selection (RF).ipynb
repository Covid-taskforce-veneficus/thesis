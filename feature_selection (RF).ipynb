{
 "cells": [
  {
   "cell_type": "code",
   "execution_count": null,
   "id": "fdd47c54-3007-4931-b6e6-93ee83e2a29f",
   "metadata": {},
   "outputs": [],
   "source": []
  },
  {
   "cell_type": "markdown",
   "id": "e2394da0-a53a-40c1-85e8-069deed75f74",
   "metadata": {},
   "source": [
    "### Random forest is used to check per dataset which features are most relevant "
   ]
  },
  {
   "cell_type": "code",
   "execution_count": null,
   "id": "fa146697-c809-45e9-9936-0f4e8776d5aa",
   "metadata": {},
   "outputs": [],
   "source": []
  },
  {
   "cell_type": "code",
   "execution_count": 62,
   "id": "95b65016-6759-440c-875d-f70c3b44863f",
   "metadata": {},
   "outputs": [],
   "source": [
    "import os\n",
    "import pandas as pd\n",
    "%matplotlib inline\n",
    "import matplotlib.pyplot as plt\n",
    "from sklearn.ensemble import RandomForestRegressor\n",
    "from sklearn.feature_selection import SelectFromModel"
   ]
  },
  {
   "cell_type": "code",
   "execution_count": 70,
   "id": "d193eda3-e0d8-43fb-b7e3-1dabf3eb4a15",
   "metadata": {},
   "outputs": [],
   "source": [
    "os.getcwd()\n",
    "os.chdir(\"C:\\\\Users\\\\Jacco Bruin .LAPTOP-ACFSBHIL\\\\THESIS\")\n",
    "df1 = pd.read_csv(\"3_year_dataset(2)(without_outliers).csv\")"
   ]
  },
  {
   "cell_type": "code",
   "execution_count": 71,
   "id": "01d2393b-2c29-424b-bbd9-a7038c5babae",
   "metadata": {},
   "outputs": [
    {
     "data": {
      "text/plain": [
       "Index(['EBITDA', 'Total Debt', 'Free Cash Flow', 'Gross Profit Margin',\n",
       "       'Operating Margin', 'Net Profit Margin', 'Return on Equity',\n",
       "       'Return on Assets', 'Free Cash Flow to Net Income', 'Current Ratio',\n",
       "       'Liabilities to Equity Ratio', 'Debt Ratio',\n",
       "       'Earnings Per Share, Basic', 'Earnings Per Share, Diluted',\n",
       "       'Sales Per Share', 'Equity Per Share', 'Free Cash Flow Per Share',\n",
       "       'Pietroski F-Score', 'Economic growth: the rate of change of real GDP',\n",
       "       'GDP per capita current U.S. dollars',\n",
       "       'Inflation: percent change in the Consumer Price Index',\n",
       "       'Unemployment rate', 'Net portfolio equity inflows',\n",
       "       'Economic growth forecast', 'Inflation forecast',\n",
       "       'Unemployment rate forecast',\n",
       "       'Political stability index (-2.5 weak; 2.5 strong)'],\n",
       "      dtype='object')"
      ]
     },
     "execution_count": 71,
     "metadata": {},
     "output_type": "execute_result"
    }
   ],
   "source": [
    "# if we selected [:,1:19], we only select financial ratios.\n",
    "# if we selected [:,1:29], we select financial ratios and macroeconomic variables.\n",
    "\n",
    "X = df1.iloc[:,2:29]\n",
    "y = df1.iloc[:,-2]\n",
    "X.columns"
   ]
  },
  {
   "cell_type": "code",
   "execution_count": null,
   "id": "35c23337-b7ee-4287-af29-9d9e52569b5a",
   "metadata": {},
   "outputs": [],
   "source": []
  },
  {
   "cell_type": "code",
   "execution_count": 72,
   "id": "58572c9c-d30a-42b3-8762-a0c899fdb1ae",
   "metadata": {},
   "outputs": [],
   "source": [
    "# in this section we look which features are most important using random forest"
   ]
  },
  {
   "cell_type": "code",
   "execution_count": 73,
   "id": "d5c29fac-8cdf-4353-ab7e-713269e6cfd2",
   "metadata": {},
   "outputs": [],
   "source": [
    "X_train, X_test, y_train, y_test = train_test_split(X, y, test_size=0.30, random_state=42)"
   ]
  },
  {
   "cell_type": "code",
   "execution_count": 74,
   "id": "d6bcf7f9-5c36-403c-9be9-32b4a809ecfc",
   "metadata": {},
   "outputs": [
    {
     "data": {
      "text/plain": [
       "SelectFromModel(estimator=RandomForestRegressor())"
      ]
     },
     "execution_count": 74,
     "metadata": {},
     "output_type": "execute_result"
    }
   ],
   "source": [
    "sel = SelectFromModel(RandomForestRegressor(n_estimators = 100))\n",
    "sel.fit(X_train, y_train)"
   ]
  },
  {
   "cell_type": "code",
   "execution_count": 75,
   "id": "e4c6d883-9879-412a-b03e-b043bb2351eb",
   "metadata": {},
   "outputs": [
    {
     "data": {
      "text/plain": [
       "6"
      ]
     },
     "execution_count": 75,
     "metadata": {},
     "output_type": "execute_result"
    }
   ],
   "source": [
    "selected_feat= X_train.columns[(sel.get_support())]\n",
    "len(selected_feat)  # random forest selects 15 features for 6 year, 6 features for 3 years, and 17 features for 1 year"
   ]
  },
  {
   "cell_type": "code",
   "execution_count": null,
   "id": "5718dbfe-8cc1-41c3-a2b7-cf7bfcaa530f",
   "metadata": {},
   "outputs": [],
   "source": []
  },
  {
   "cell_type": "code",
   "execution_count": 76,
   "id": "9ae1f25f-66d4-41b1-ae69-ad1fc8f6e45e",
   "metadata": {},
   "outputs": [
    {
     "name": "stdout",
     "output_type": "stream",
     "text": [
      "Index(['Gross Profit Margin', 'Current Ratio', 'Earnings Per Share, Basic',\n",
      "       'Earnings Per Share, Diluted', 'Equity Per Share',\n",
      "       'Free Cash Flow Per Share'],\n",
      "      dtype='object')\n"
     ]
    }
   ],
   "source": [
    "print(selected_feat)   # the name of the features"
   ]
  },
  {
   "cell_type": "code",
   "execution_count": 57,
   "id": "7801ce43-0b49-4d4a-a10c-cc8d66abb75c",
   "metadata": {},
   "outputs": [
    {
     "data": {
      "text/plain": [
       "Index(['EBITDA', 'Total Debt', 'Free Cash Flow', 'Gross Profit Margin',\n",
       "       'Operating Margin', 'Net Profit Margin', 'Return on Equity',\n",
       "       'Return on Assets', 'Free Cash Flow to Net Income', 'Current Ratio',\n",
       "       'Liabilities to Equity Ratio', 'Debt Ratio', 'Sales Per Share',\n",
       "       'Equity Per Share', 'Free Cash Flow Per Share',\n",
       "       'Economic growth forecast',\n",
       "       'Political stability index (-2.5 weak; 2.5 strong)'],\n",
       "      dtype='object')"
      ]
     },
     "execution_count": 57,
     "metadata": {},
     "output_type": "execute_result"
    }
   ],
   "source": [
    "#the index of the selected features \n",
    "\n",
    "w = [2,3,4,5,6,8,9,10,11,12,13,16,17,18,21]      # most important predicitng for 6 years\n",
    "y = [5,11,14,15,17,18]                           # most important predicitng for 3 years\n",
    "z = [2,3,4,5,6,7,8,9,10,11,12,13,16,17,18,25,28] # most important predicing for 1 year\n",
    "\n",
    "X = df1.iloc[:,z]\n",
    "X.columns"
   ]
  },
  {
   "cell_type": "code",
   "execution_count": null,
   "id": "0b5111b0-681c-4039-8046-97a633e77102",
   "metadata": {},
   "outputs": [],
   "source": []
  }
 ],
 "metadata": {
  "kernelspec": {
   "display_name": "Python 3",
   "language": "python",
   "name": "python3"
  },
  "language_info": {
   "codemirror_mode": {
    "name": "ipython",
    "version": 3
   },
   "file_extension": ".py",
   "mimetype": "text/x-python",
   "name": "python",
   "nbconvert_exporter": "python",
   "pygments_lexer": "ipython3",
   "version": "3.6.13"
  }
 },
 "nbformat": 4,
 "nbformat_minor": 5
}
