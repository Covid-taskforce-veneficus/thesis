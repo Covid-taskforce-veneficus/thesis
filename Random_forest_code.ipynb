{
 "cells": [
  {
   "cell_type": "code",
   "execution_count": 1,
   "id": "1e8c1726-ded3-416e-9d79-9f64dd3c51a3",
   "metadata": {},
   "outputs": [],
   "source": [
    "import os\n",
    "import pandas as pd\n",
    "import numpy as np\n",
    "import scipy\n",
    "%matplotlib inline\n",
    "from sklearn.ensemble import RandomForestRegressor\n",
    "from sklearn import preprocessing\n",
    "from sklearn.preprocessing import MinMaxScaler\n",
    "from sklearn.model_selection import cross_validate\n",
    "from sklearn.model_selection import RandomizedSearchCV\n",
    "from sklearn.metrics import mean_squared_error\n",
    "from sklearn.metrics import mean_absolute_error"
   ]
  },
  {
   "cell_type": "code",
   "execution_count": 2,
   "id": "4754c201-2b94-4ca0-9d0d-8979ea28902b",
   "metadata": {},
   "outputs": [],
   "source": [
    "os.getcwd()\n",
    "os.chdir(\"C:\\\\Users\\\\Jacco Bruin .LAPTOP-ACFSBHIL\\\\THESIS\")\n",
    "df1 = pd.read_csv(\"6_year_dataset(4)(without_outliers).csv\")    # change dataset to check result 3 year dataset and 1 year dataset \n",
    "\n",
    "df12 = df1[\"Ticker_x\"]\n",
    "\n",
    "\n",
    "df1 = df1.set_index(\"Ticker_x\")"
   ]
  },
  {
   "cell_type": "code",
   "execution_count": 3,
   "id": "a98b3beb-6e45-4aeb-bb00-3942a8ad1fe8",
   "metadata": {
    "tags": []
   },
   "outputs": [],
   "source": [
    "#scale data and add columns and index to it \n",
    "df11 = df1.columns\n",
    "x = df1.values \n",
    "min_max_scaler = preprocessing.MinMaxScaler()\n",
    "x_scaled = min_max_scaler.fit_transform(x)\n",
    "df1 = pd.DataFrame(x_scaled)\n",
    "df1.columns = [df11]\n",
    "df1.index = [df12]"
   ]
  },
  {
   "cell_type": "code",
   "execution_count": null,
   "id": "f7656ad4-cf72-4aee-b1d3-93954547e6c0",
   "metadata": {},
   "outputs": [],
   "source": []
  },
  {
   "cell_type": "code",
   "execution_count": 4,
   "id": "7f273d5b-aeb3-4acb-b4f3-7e61384dee2a",
   "metadata": {},
   "outputs": [
    {
     "data": {
      "text/plain": [
       "MultiIndex([(                      'EBITDA',),\n",
       "            (                  'Total Debt',),\n",
       "            (              'Free Cash Flow',),\n",
       "            (         'Gross Profit Margin',),\n",
       "            (            'Operating Margin',),\n",
       "            (           'Net Profit Margin',),\n",
       "            (            'Return on Equity',),\n",
       "            (            'Return on Assets',),\n",
       "            ('Free Cash Flow to Net Income',),\n",
       "            (               'Current Ratio',),\n",
       "            ( 'Liabilities to Equity Ratio',),\n",
       "            (                  'Debt Ratio',),\n",
       "            (   'Earnings Per Share, Basic',),\n",
       "            ( 'Earnings Per Share, Diluted',),\n",
       "            (             'Sales Per Share',),\n",
       "            (            'Equity Per Share',),\n",
       "            (    'Free Cash Flow Per Share',),\n",
       "            (           'Pietroski F-Score',)],\n",
       "           )"
      ]
     },
     "execution_count": 4,
     "metadata": {},
     "output_type": "execute_result"
    }
   ],
   "source": [
    "selection_6_years = [1,2,3,4,5,7,8,9,10,11,12,15,16,17,20] #index number are here one less than in file \"feature_selection\" because different indicies\n",
    "selection_3_years = [4,10,13,14,16,17]                           \n",
    "selection_1_year = [1,2,3,4,5,6,7,8,9,10,11,12,15,16,17,24,27]\n",
    "\n",
    "X = df1.iloc[:, 1:19]  # [:,1:29] = whole dataset, [:,1:19] = finanical ratios only, [:,19:29] = macroeconomic variables only\n",
    "y = df1.iloc[:, -2]\n",
    "X.columns"
   ]
  },
  {
   "cell_type": "code",
   "execution_count": null,
   "id": "79648ea3-306a-4f5a-91e4-031a097e080d",
   "metadata": {},
   "outputs": [],
   "source": []
  },
  {
   "cell_type": "markdown",
   "id": "0b534544-5d15-4e7e-90d7-801a94993e3b",
   "metadata": {},
   "source": [
    "### Code to find the best hyperparameters"
   ]
  },
  {
   "cell_type": "code",
   "execution_count": null,
   "id": "2f00317f-0020-4a41-8aa5-e9e07053699d",
   "metadata": {},
   "outputs": [],
   "source": []
  },
  {
   "cell_type": "code",
   "execution_count": 21,
   "id": "b0c75e64-80db-4df5-aa4a-6b4f066d968d",
   "metadata": {},
   "outputs": [
    {
     "name": "stderr",
     "output_type": "stream",
     "text": [
      "C:\\Users\\Jacco Bruin .LAPTOP-ACFSBHIL\\anaconda3\\envs\\tens\\lib\\site-packages\\sklearn\\model_selection\\_search.py:925: UserWarning: One or more of the test scores are non-finite: [-0.20542482 -0.20934108 -0.20379524 -0.20379949         nan -0.20323625\n",
      " -0.20478376         nan -0.20334473 -0.20450263         nan -0.20256792\n",
      " -0.20508834 -0.20331943         nan -0.20337975 -0.20256721 -0.20514617\n",
      " -0.20342372 -0.2054082          nan         nan         nan -0.20250977\n",
      " -0.20621875 -0.20433059 -0.20446979         nan -0.20238102 -0.20296358\n",
      " -0.20311589         nan         nan -0.20289798 -0.20375493 -0.20321692\n",
      " -0.20294153 -0.20356791 -0.20317152 -0.20418323         nan -0.20296956\n",
      " -0.20244017         nan -0.20632819 -0.20424856 -0.20537894 -0.20396398\n",
      "         nan         nan -0.20267362 -0.20340717 -0.2034892  -0.20342949\n",
      "         nan -0.20463944 -0.20636441 -0.20301983         nan -0.20923358]\n",
      "  category=UserWarning\n"
     ]
    },
    {
     "data": {
      "text/plain": [
       "({'n_estimators': 50, 'max_features': 8, 'max_depth': 5, 'bootstrap': 'False'},\n",
       " -0.2023810202814408)"
      ]
     },
     "execution_count": 21,
     "metadata": {},
     "output_type": "execute_result"
    }
   ],
   "source": [
    "# RandomForestRegressor is used to optimalize the hyperparameters \n",
    "\n",
    "tree = RandomForestRegressor()\n",
    "LR = {'max_depth': np.arange(1,11,2),          \n",
    "      'n_estimators': np.arange(50,500,50),   \n",
    "      'max_features': np.arange(5,20,3),        \n",
    "      'bootstrap': [\"True\", \"False\"]     \n",
    "     } \n",
    "\n",
    "clf = RandomizedSearchCV(tree, LR, cv = 10, scoring = \"neg_mean_absolute_error\", n_jobs = -1, random_state = 999 )\n",
    "search = clf.fit(X, y)\n",
    "search.best_params_, search.best_score_"
   ]
  },
  {
   "cell_type": "code",
   "execution_count": null,
   "id": "324bad0c-b9e3-4b0e-b9c9-b87eac1273de",
   "metadata": {},
   "outputs": [],
   "source": []
  },
  {
   "cell_type": "markdown",
   "id": "0042b709-7761-4bb8-b72a-d3bdca54f46a",
   "metadata": {},
   "source": [
    "## when is the best hyperparameters were found, the following code was used to find the results. "
   ]
  },
  {
   "cell_type": "code",
   "execution_count": null,
   "id": "5b60dad6-b9b4-4b1b-a786-591b24c2d5d1",
   "metadata": {},
   "outputs": [],
   "source": []
  },
  {
   "cell_type": "code",
   "execution_count": 7,
   "id": "e4904118-b7cf-441b-94ae-b42a1712b43f",
   "metadata": {},
   "outputs": [
    {
     "data": {
      "text/plain": [
       "MultiIndex([(                                               'EBITDA',),\n",
       "            (                                           'Total Debt',),\n",
       "            (                                       'Free Cash Flow',),\n",
       "            (                                  'Gross Profit Margin',),\n",
       "            (                                     'Operating Margin',),\n",
       "            (                                    'Net Profit Margin',),\n",
       "            (                                     'Return on Equity',),\n",
       "            (                                     'Return on Assets',),\n",
       "            (                         'Free Cash Flow to Net Income',),\n",
       "            (                                        'Current Ratio',),\n",
       "            (                          'Liabilities to Equity Ratio',),\n",
       "            (                                           'Debt Ratio',),\n",
       "            (                            'Earnings Per Share, Basic',),\n",
       "            (                          'Earnings Per Share, Diluted',),\n",
       "            (                                      'Sales Per Share',),\n",
       "            (                                     'Equity Per Share',),\n",
       "            (                             'Free Cash Flow Per Share',),\n",
       "            (                                    'Pietroski F-Score',),\n",
       "            (      'Economic growth: the rate of change of real GDP',),\n",
       "            (                  'GDP per capita current U.S. dollars',),\n",
       "            ('Inflation: percent change in the Consumer Price Index',),\n",
       "            (                                    'Unemployment rate',),\n",
       "            (                         'Net portfolio equity inflows',),\n",
       "            (                             'Economic growth forecast',),\n",
       "            (                                   'Inflation forecast',),\n",
       "            (                           'Unemployment rate forecast',),\n",
       "            (    'Political stability index (-2.5 weak; 2.5 strong)',),\n",
       "            (  'Interest rates on bank credit to the private sector',)],\n",
       "           )"
      ]
     },
     "execution_count": 7,
     "metadata": {},
     "output_type": "execute_result"
    }
   ],
   "source": [
    "selection_6_years = [1,2,3,4,5,7,8,9,10,11,12,15,16,17,20] #index number are here one less than in file \"feature_selection\" because different dataset     \n",
    "selection_3_years = [4,10,13,14,16,17]                           \n",
    "selection_1_year = [1,2,3,4,5,6,7,8,9,10,11,12,15,16,17,24,27]\n",
    "\n",
    "X = df1.iloc[:, 1:29]  # [:,1:29] = whole dataset, [:,1:19] = finanical ratios only, [:,19:29] = macroeconomic variables only\n",
    "y = df1.iloc[:, -2]\n",
    "X.columns"
   ]
  },
  {
   "cell_type": "code",
   "execution_count": 8,
   "id": "b83ce2c7-b3e5-4690-839f-9b81b9774d01",
   "metadata": {},
   "outputs": [
    {
     "name": "stdout",
     "output_type": "stream",
     "text": [
      "-----------------\n",
      "MSE of test Model with Cross Validation is: 0.06524900065236763\n",
      "MAE of test Model with Cross Validation is: 0.20044603804687994\n",
      "R2_adj of test Model with Cross Validation is: 0.09561665160343613\n"
     ]
    }
   ],
   "source": [
    "tree = RandomForestRegressor(n_estimators = 250, max_features = 8, max_depth = 5, bootstrap = False, random_state = 999)  # change the hyperparameters based on results randomsearchcv\n",
    "result_cv = cross_validate(tree, X, y, cv = 5, scoring = [\"r2\", \"neg_mean_squared_error\", \"neg_mean_absolute_error\"], return_train_score=True)  \n",
    "\n",
    "print(\"-----------------\")\n",
    "#print(\"R2 of test Model with Cross Validation is:\",result_cv[\"test_r2\"].mean())\n",
    "print(\"MSE of test Model with Cross Validation is:\",result_cv['test_neg_mean_squared_error'].mean()*-1)\n",
    "print(\"MAE of test Model with Cross Validation is:\", result_cv['test_neg_mean_absolute_error'].mean()*-1)\n",
    "\n",
    "### adjusted R2 score\n",
    "\n",
    "# formula adjusted R2_score = 1 - (1-R2)*(len(y)-1)/(len(y)-X.shape[1]-1)\n",
    "\n",
    "R2 = result_cv[\"test_r2\"].mean()\n",
    "n = len(y)\n",
    "p = X.shape[1]\n",
    "\n",
    "Adj_R2 = 1-(1-R2)*(n-1)/(n-p-1)\n",
    "\n",
    "print(\"R2_adj of test Model with Cross Validation is:\", Adj_R2)\n",
    "\n",
    "\n",
    "\n",
    "### down the training result to check if the data was not overfitting\n",
    "\n",
    "#print(\"------------------\")\n",
    "#print(\"R2 of train Model with Cross Validation is:\",result_cv['train_r2'].mean())\n",
    "#print(\"MSE of train Model with Cross Validation is:\",result_cv['train_neg_mean_squared_error'].mean()*-1)\n",
    "#print(\"MAE of train Model with Cross Validation is:\", result_cv['train_neg_mean_absolute_error'].mean()*-1)"
   ]
  },
  {
   "cell_type": "code",
   "execution_count": null,
   "id": "05adb00d-5384-4c90-b5c1-469534a9513e",
   "metadata": {},
   "outputs": [],
   "source": []
  },
  {
   "cell_type": "code",
   "execution_count": null,
   "id": "f07cdd68-3f97-4f55-a8d6-bf82bb2268ae",
   "metadata": {},
   "outputs": [],
   "source": []
  }
 ],
 "metadata": {
  "kernelspec": {
   "display_name": "Python 3",
   "language": "python",
   "name": "python3"
  },
  "language_info": {
   "codemirror_mode": {
    "name": "ipython",
    "version": 3
   },
   "file_extension": ".py",
   "mimetype": "text/x-python",
   "name": "python",
   "nbconvert_exporter": "python",
   "pygments_lexer": "ipython3",
   "version": "3.8.5"
  }
 },
 "nbformat": 4,
 "nbformat_minor": 5
}
